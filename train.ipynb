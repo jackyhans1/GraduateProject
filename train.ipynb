{
  "nbformat": 4,
  "nbformat_minor": 0,
  "metadata": {
    "colab": {
      "provenance": [],
      "gpuType": "T4"
    },
    "kernelspec": {
      "name": "python3",
      "display_name": "Python 3"
    },
    "language_info": {
      "name": "python"
    },
    "accelerator": "GPU"
  },
  "cells": [
    {
      "cell_type": "code",
      "source": [
        "import os\n",
        "print(os.getcwd())\n",
        "\n",
        "# 작업 디렉토리 변경\n",
        "os.chdir('/content/drive/MyDrive/Colab Notebooks/graduateProject')\n",
        "print(os.getcwd())"
      ],
      "metadata": {
        "colab": {
          "base_uri": "https://localhost:8080/"
        },
        "id": "WdLUu-cQnuUL",
        "outputId": "d482b0d8-e0e0-4daa-adc8-338dc7101435"
      },
      "execution_count": 93,
      "outputs": [
        {
          "output_type": "stream",
          "name": "stdout",
          "text": [
            "/content/drive/MyDrive/Colab Notebooks/graduateProject\n",
            "/content/drive/MyDrive/Colab Notebooks/graduateProject\n"
          ]
        }
      ]
    },
    {
      "cell_type": "code",
      "execution_count": 94,
      "metadata": {
        "id": "NjShHvnfD8vP"
      },
      "outputs": [],
      "source": [
        "# 필요한 라이브러리 임포트\n",
        "import numpy as np\n",
        "import torch\n",
        "import torch.optim as optim\n",
        "import torch.nn as nn\n",
        "import matplotlib.pyplot as plt\n",
        "import importlib\n",
        "import sys\n",
        "import os\n",
        "import random\n",
        "\n",
        "# 캐싱된 모듈 삭제\n",
        "if 'models' in sys.modules:\n",
        "    del sys.modules['models']\n",
        "if 'Segdataset' in sys.modules:\n",
        "    del sys.modules['Segdataset']\n",
        "\n",
        "# 다시 임포트\n",
        "from models import CNN  # CNN 모델 클래스 임포트\n",
        "from Segdataset import SegDataset  # 데이터셋 로드 클래스\n",
        "from torch.utils.data import DataLoader, WeightedRandomSampler"
      ]
    },
    {
      "cell_type": "code",
      "source": [
        "# 설정값 정의\n",
        "data_root = '/content/drive/MyDrive/data/TESS'\n",
        "save_root = '/content/drive/MyDrive/checkpoints'\n",
        "num_epochs = 50\n",
        "learning_rate = 1e-4\n",
        "batch_size = 128\n",
        "num_workers = 2\n",
        "random_seed = 42\n",
        "model_kind = 'cnn'  # 모델 종류\n",
        "is_shuffle_dataset = True  # 데이터 셔플 여부\n",
        "test_split = 0.2  # 테스트 데이터 비율\n",
        "n_mfcc = 16"
      ],
      "metadata": {
        "id": "Ug9BqKqqIHbx"
      },
      "execution_count": 95,
      "outputs": []
    },
    {
      "cell_type": "code",
      "source": [
        "# 사용 가능한 디바이스 설정\n",
        "if torch.cuda.is_available():\n",
        "    device = torch.device('cuda')\n",
        "elif torch.backends.mps.is_available():\n",
        "    device = torch.device('mps')\n",
        "else:\n",
        "    device = torch.device('cpu')\n",
        "\n",
        "print(f\"using device : {device}\")"
      ],
      "metadata": {
        "id": "RdAhu96SINYi",
        "colab": {
          "base_uri": "https://localhost:8080/"
        },
        "outputId": "2c694273-2df6-4647-c3a6-565b93c7f132"
      },
      "execution_count": 96,
      "outputs": [
        {
          "output_type": "stream",
          "name": "stdout",
          "text": [
            "using device : cuda\n"
          ]
        }
      ]
    },
    {
      "cell_type": "code",
      "source": [
        "if model_kind == 'rnn':\n",
        "     model = RNN(n_mfcc)\n",
        "elif model_kind == 'transformer':\n",
        "     model = Transformer(n_mfcc)\n",
        "elif model_kind == 'cnn':\n",
        "     model = CNN()"
      ],
      "metadata": {
        "id": "0LCz94723mjd"
      },
      "execution_count": 97,
      "outputs": []
    },
    {
      "cell_type": "code",
      "source": [
        "train = SegDataset(root=data_root, type='train', n_mfcc=n_mfcc, random_state=random_seed, test_size=test_split)\n",
        "val = SegDataset(root=data_root, type='val', n_mfcc=n_mfcc, random_state=random_seed, test_size=test_split)\n",
        "\n",
        "train_iter = torch.utils.data.DataLoader(train, batch_size, shuffle=is_shuffle_dataset, drop_last=True, num_workers=num_workers)\n",
        "test_iter = torch.utils.data.DataLoader(val, batch_size, drop_last=True, num_workers=num_workers)"
      ],
      "metadata": {
        "colab": {
          "base_uri": "https://localhost:8080/"
        },
        "id": "YFJXqspo3qlB",
        "outputId": "ed7fc1b9-6cc1-47aa-c44b-116a18cbef6d"
      },
      "execution_count": 98,
      "outputs": [
        {
          "output_type": "stream",
          "name": "stdout",
          "text": [
            "Read 1581 valid examples\n",
            "Read 396 valid examples\n"
          ]
        }
      ]
    },
    {
      "cell_type": "code",
      "source": [
        "if torch.cuda.is_available():\n",
        "    device = torch.device('cuda')\n",
        "elif torch.backends.mps.is_available():\n",
        "    device = torch.device('mps')\n",
        "else:\n",
        "    device = torch.device('cpu')\n",
        "\n",
        "print(f\"using device : {device}\")"
      ],
      "metadata": {
        "colab": {
          "base_uri": "https://localhost:8080/"
        },
        "id": "SJTU2rWX3ttB",
        "outputId": "658572bf-46cd-4489-c7b4-9252a40e8895"
      },
      "execution_count": 99,
      "outputs": [
        {
          "output_type": "stream",
          "name": "stdout",
          "text": [
            "using device : cuda\n"
          ]
        }
      ]
    },
    {
      "cell_type": "code",
      "source": [
        "all_train_epoch_loss = []\n",
        "all_test_epoch_loss = []\n",
        "all_test_epoch_accuracy_emotion=[]\n",
        "model = model.to(device)\n",
        "\n",
        "pos_weight = torch.tensor([0.75]).to(device)\n",
        "criterion = nn.BCEWithLogitsLoss(pos_weight=pos_weight).to(device)    #Binary Cross Entropy with Logits Loss 활성화 함수 이용\n",
        "\n",
        "optimizer = optim.Adam(model.parameters(), learning_rate)"
      ],
      "metadata": {
        "id": "4PmyvsXr3yDr"
      },
      "execution_count": 100,
      "outputs": []
    },
    {
      "cell_type": "code",
      "source": [
        "for epo in range(num_epochs):\n",
        "    train_loss = 0\n",
        "    model.train()  # batch normalization , dropout 활성화\n",
        "\n",
        "    for index, (mfcc, emotion,_) in enumerate(train_iter):\n",
        "        mfcc, emotion =mfcc.to(device), emotion.to(device)\n",
        "        optimizer.zero_grad()\n",
        "        output_emotion = model(mfcc)\n",
        "\n",
        "        emotion = emotion.float()\n",
        "\n",
        "        loss = criterion(output_emotion[:, 0].squeeze(), emotion)\n",
        "        loss.backward()\n",
        "        iter_loss = loss.item()\n",
        "        train_loss += iter_loss\n",
        "        optimizer.step()\n",
        "\n",
        "        if np.mod(index, 15) == 0:\n",
        "            print('epoch {}, {}/{},train loss is {}'.format(epo, index, len(train_iter), iter_loss))\n",
        "\n",
        "    # test\n",
        "    test_loss = 0\n",
        "    correct_emotion = 0\n",
        "    total=0\n",
        "    model.eval()\n",
        "    with torch.no_grad():\n",
        "        for index, (mfcc, emotion,_) in enumerate(test_iter):\n",
        "            mfcc, emotion = mfcc.to(device), emotion.to(device)\n",
        "            optimizer.zero_grad()\n",
        "            output_emotion = model(mfcc)\n",
        "            emotion = emotion.float()\n",
        "\n",
        "            loss = criterion(output_emotion[:, 0].squeeze(), emotion)\n",
        "            test_loss += loss.item()\n",
        "\n",
        "            # 이진 분류 결과를 torch.sigmoid를 통해 확률로 변환하고, 0.5 기준으로 분류\n",
        "            predicted_emotion = (torch.sigmoid(output_emotion[:, 0]) > 0.56).float()\n",
        "            correct_emotion += (predicted_emotion == emotion).sum().item()\n",
        "            total += emotion.size(0)\n",
        "    accuracy_emotion = (correct_emotion / total)\n",
        "    print('<---------------------------------------------------->')\n",
        "    print('epoch: %f' % epo)\n",
        "    print('epoch train loss = %f, epoch test loss = %f,accuracy_emotion =%.3f'\n",
        "          % (train_loss / len(train_iter), test_loss / len(test_iter),accuracy_emotion))\n",
        "\n",
        "    if np.mod(epo, 1) == 0:\n",
        "        torch.save(model.state_dict(), save_root+'/ep%03d-loss%.3f-val_loss%.3f.pth' % (\n",
        "            (epo + 1), (train_loss / len(train_iter)), (test_loss / len(test_iter)))\n",
        "                    )\n",
        "        print('saving checkpoints/model_{}.pth'.format(epo))\n",
        "    all_test_epoch_accuracy_emotion.append(accuracy_emotion)\n",
        "    all_train_epoch_loss.append(train_loss / len(train_iter))\n",
        "    all_test_epoch_loss.append(test_loss / len(test_iter))"
      ],
      "metadata": {
        "colab": {
          "base_uri": "https://localhost:8080/"
        },
        "id": "dLFg_vzj3zjg",
        "outputId": "dd26128e-639b-4ba8-904e-73dc7cdeab95"
      },
      "execution_count": 101,
      "outputs": [
        {
          "output_type": "stream",
          "name": "stdout",
          "text": [
            "epoch 0, 0/12,train loss is 0.5835809111595154\n",
            "<---------------------------------------------------->\n",
            "epoch: 0.000000\n",
            "epoch train loss = 0.599503, epoch test loss = 0.601296,accuracy_emotion =0.448\n",
            "saving checkpoints/model_0.pth\n",
            "epoch 1, 0/12,train loss is 0.6069915890693665\n",
            "<---------------------------------------------------->\n",
            "epoch: 1.000000\n",
            "epoch train loss = 0.594587, epoch test loss = 0.597731,accuracy_emotion =0.448\n",
            "saving checkpoints/model_1.pth\n",
            "epoch 2, 0/12,train loss is 0.5908048152923584\n",
            "<---------------------------------------------------->\n",
            "epoch: 2.000000\n",
            "epoch train loss = 0.594368, epoch test loss = 0.597344,accuracy_emotion =0.448\n",
            "saving checkpoints/model_2.pth\n",
            "epoch 3, 0/12,train loss is 0.5959244966506958\n",
            "<---------------------------------------------------->\n",
            "epoch: 3.000000\n",
            "epoch train loss = 0.593466, epoch test loss = 0.597199,accuracy_emotion =0.448\n",
            "saving checkpoints/model_3.pth\n",
            "epoch 4, 0/12,train loss is 0.6016936898231506\n",
            "<---------------------------------------------------->\n",
            "epoch: 4.000000\n",
            "epoch train loss = 0.593740, epoch test loss = 0.597055,accuracy_emotion =0.448\n",
            "saving checkpoints/model_4.pth\n",
            "epoch 5, 0/12,train loss is 0.5942611694335938\n",
            "<---------------------------------------------------->\n",
            "epoch: 5.000000\n",
            "epoch train loss = 0.594076, epoch test loss = 0.596873,accuracy_emotion =0.448\n",
            "saving checkpoints/model_5.pth\n",
            "epoch 6, 0/12,train loss is 0.5935088992118835\n",
            "<---------------------------------------------------->\n",
            "epoch: 6.000000\n",
            "epoch train loss = 0.593194, epoch test loss = 0.596636,accuracy_emotion =0.448\n",
            "saving checkpoints/model_6.pth\n",
            "epoch 7, 0/12,train loss is 0.581128716468811\n",
            "<---------------------------------------------------->\n",
            "epoch: 7.000000\n",
            "epoch train loss = 0.592796, epoch test loss = 0.596343,accuracy_emotion =0.448\n",
            "saving checkpoints/model_7.pth\n",
            "epoch 8, 0/12,train loss is 0.6054675579071045\n",
            "<---------------------------------------------------->\n",
            "epoch: 8.000000\n",
            "epoch train loss = 0.590832, epoch test loss = 0.596038,accuracy_emotion =0.453\n",
            "saving checkpoints/model_8.pth\n",
            "epoch 9, 0/12,train loss is 0.5920344591140747\n",
            "<---------------------------------------------------->\n",
            "epoch: 9.000000\n",
            "epoch train loss = 0.592392, epoch test loss = 0.595478,accuracy_emotion =0.464\n",
            "saving checkpoints/model_9.pth\n",
            "epoch 10, 0/12,train loss is 0.5926021337509155\n",
            "<---------------------------------------------------->\n",
            "epoch: 10.000000\n",
            "epoch train loss = 0.590790, epoch test loss = 0.594379,accuracy_emotion =0.458\n",
            "saving checkpoints/model_10.pth\n",
            "epoch 11, 0/12,train loss is 0.5907236337661743\n",
            "<---------------------------------------------------->\n",
            "epoch: 11.000000\n",
            "epoch train loss = 0.590356, epoch test loss = 0.594099,accuracy_emotion =0.495\n",
            "saving checkpoints/model_11.pth\n",
            "epoch 12, 0/12,train loss is 0.5935672521591187\n",
            "<---------------------------------------------------->\n",
            "epoch: 12.000000\n",
            "epoch train loss = 0.589266, epoch test loss = 0.592765,accuracy_emotion =0.492\n",
            "saving checkpoints/model_12.pth\n",
            "epoch 13, 0/12,train loss is 0.5891420245170593\n",
            "<---------------------------------------------------->\n",
            "epoch: 13.000000\n",
            "epoch train loss = 0.588825, epoch test loss = 0.591363,accuracy_emotion =0.500\n",
            "saving checkpoints/model_13.pth\n",
            "epoch 14, 0/12,train loss is 0.5954602360725403\n",
            "<---------------------------------------------------->\n",
            "epoch: 14.000000\n",
            "epoch train loss = 0.585670, epoch test loss = 0.589796,accuracy_emotion =0.573\n",
            "saving checkpoints/model_14.pth\n",
            "epoch 15, 0/12,train loss is 0.5960977077484131\n",
            "<---------------------------------------------------->\n",
            "epoch: 15.000000\n",
            "epoch train loss = 0.584998, epoch test loss = 0.586981,accuracy_emotion =0.560\n",
            "saving checkpoints/model_15.pth\n",
            "epoch 16, 0/12,train loss is 0.5829318165779114\n",
            "<---------------------------------------------------->\n",
            "epoch: 16.000000\n",
            "epoch train loss = 0.580384, epoch test loss = 0.583307,accuracy_emotion =0.599\n",
            "saving checkpoints/model_16.pth\n",
            "epoch 17, 0/12,train loss is 0.5616370439529419\n",
            "<---------------------------------------------------->\n",
            "epoch: 17.000000\n",
            "epoch train loss = 0.578555, epoch test loss = 0.579354,accuracy_emotion =0.607\n",
            "saving checkpoints/model_17.pth\n",
            "epoch 18, 0/12,train loss is 0.5920761823654175\n",
            "<---------------------------------------------------->\n",
            "epoch: 18.000000\n",
            "epoch train loss = 0.576320, epoch test loss = 0.576174,accuracy_emotion =0.609\n",
            "saving checkpoints/model_18.pth\n",
            "epoch 19, 0/12,train loss is 0.5831236839294434\n",
            "<---------------------------------------------------->\n",
            "epoch: 19.000000\n",
            "epoch train loss = 0.573528, epoch test loss = 0.574341,accuracy_emotion =0.615\n",
            "saving checkpoints/model_19.pth\n",
            "epoch 20, 0/12,train loss is 0.5940313935279846\n",
            "<---------------------------------------------------->\n",
            "epoch: 20.000000\n",
            "epoch train loss = 0.568566, epoch test loss = 0.572319,accuracy_emotion =0.602\n",
            "saving checkpoints/model_20.pth\n",
            "epoch 21, 0/12,train loss is 0.5525425672531128\n",
            "<---------------------------------------------------->\n",
            "epoch: 21.000000\n",
            "epoch train loss = 0.564579, epoch test loss = 0.565989,accuracy_emotion =0.620\n",
            "saving checkpoints/model_21.pth\n",
            "epoch 22, 0/12,train loss is 0.5747543573379517\n",
            "<---------------------------------------------------->\n",
            "epoch: 22.000000\n",
            "epoch train loss = 0.564376, epoch test loss = 0.566334,accuracy_emotion =0.615\n",
            "saving checkpoints/model_22.pth\n",
            "epoch 23, 0/12,train loss is 0.5748370289802551\n",
            "<---------------------------------------------------->\n",
            "epoch: 23.000000\n",
            "epoch train loss = 0.559966, epoch test loss = 0.562115,accuracy_emotion =0.620\n",
            "saving checkpoints/model_23.pth\n",
            "epoch 24, 0/12,train loss is 0.5394340753555298\n",
            "<---------------------------------------------------->\n",
            "epoch: 24.000000\n",
            "epoch train loss = 0.560158, epoch test loss = 0.560198,accuracy_emotion =0.615\n",
            "saving checkpoints/model_24.pth\n",
            "epoch 25, 0/12,train loss is 0.5653393864631653\n",
            "<---------------------------------------------------->\n",
            "epoch: 25.000000\n",
            "epoch train loss = 0.558108, epoch test loss = 0.556519,accuracy_emotion =0.651\n",
            "saving checkpoints/model_25.pth\n",
            "epoch 26, 0/12,train loss is 0.5495021343231201\n",
            "<---------------------------------------------------->\n",
            "epoch: 26.000000\n",
            "epoch train loss = 0.554837, epoch test loss = 0.557482,accuracy_emotion =0.630\n",
            "saving checkpoints/model_26.pth\n",
            "epoch 27, 0/12,train loss is 0.5580872297286987\n",
            "<---------------------------------------------------->\n",
            "epoch: 27.000000\n",
            "epoch train loss = 0.554584, epoch test loss = 0.555245,accuracy_emotion =0.638\n",
            "saving checkpoints/model_27.pth\n",
            "epoch 28, 0/12,train loss is 0.5218956470489502\n",
            "<---------------------------------------------------->\n",
            "epoch: 28.000000\n",
            "epoch train loss = 0.552359, epoch test loss = 0.552094,accuracy_emotion =0.669\n",
            "saving checkpoints/model_28.pth\n",
            "epoch 29, 0/12,train loss is 0.5432072877883911\n",
            "<---------------------------------------------------->\n",
            "epoch: 29.000000\n",
            "epoch train loss = 0.551097, epoch test loss = 0.554362,accuracy_emotion =0.643\n",
            "saving checkpoints/model_29.pth\n",
            "epoch 30, 0/12,train loss is 0.5628595352172852\n",
            "<---------------------------------------------------->\n",
            "epoch: 30.000000\n",
            "epoch train loss = 0.548068, epoch test loss = 0.549177,accuracy_emotion =0.682\n",
            "saving checkpoints/model_30.pth\n",
            "epoch 31, 0/12,train loss is 0.563867449760437\n",
            "<---------------------------------------------------->\n",
            "epoch: 31.000000\n",
            "epoch train loss = 0.548347, epoch test loss = 0.548041,accuracy_emotion =0.688\n",
            "saving checkpoints/model_31.pth\n",
            "epoch 32, 0/12,train loss is 0.5510493516921997\n",
            "<---------------------------------------------------->\n",
            "epoch: 32.000000\n",
            "epoch train loss = 0.547987, epoch test loss = 0.547027,accuracy_emotion =0.695\n",
            "saving checkpoints/model_32.pth\n",
            "epoch 33, 0/12,train loss is 0.5939138531684875\n",
            "<---------------------------------------------------->\n",
            "epoch: 33.000000\n",
            "epoch train loss = 0.547628, epoch test loss = 0.546526,accuracy_emotion =0.688\n",
            "saving checkpoints/model_33.pth\n",
            "epoch 34, 0/12,train loss is 0.5592739582061768\n",
            "<---------------------------------------------------->\n",
            "epoch: 34.000000\n",
            "epoch train loss = 0.548242, epoch test loss = 0.547207,accuracy_emotion =0.672\n",
            "saving checkpoints/model_34.pth\n",
            "epoch 35, 0/12,train loss is 0.553181529045105\n",
            "<---------------------------------------------------->\n",
            "epoch: 35.000000\n",
            "epoch train loss = 0.543088, epoch test loss = 0.550579,accuracy_emotion =0.661\n",
            "saving checkpoints/model_35.pth\n",
            "epoch 36, 0/12,train loss is 0.5671552419662476\n",
            "<---------------------------------------------------->\n",
            "epoch: 36.000000\n",
            "epoch train loss = 0.544837, epoch test loss = 0.541810,accuracy_emotion =0.716\n",
            "saving checkpoints/model_36.pth\n",
            "epoch 37, 0/12,train loss is 0.5029397010803223\n",
            "<---------------------------------------------------->\n",
            "epoch: 37.000000\n",
            "epoch train loss = 0.541145, epoch test loss = 0.542656,accuracy_emotion =0.711\n",
            "saving checkpoints/model_37.pth\n",
            "epoch 38, 0/12,train loss is 0.5603804588317871\n",
            "<---------------------------------------------------->\n",
            "epoch: 38.000000\n",
            "epoch train loss = 0.544193, epoch test loss = 0.546449,accuracy_emotion =0.664\n",
            "saving checkpoints/model_38.pth\n",
            "epoch 39, 0/12,train loss is 0.5437557101249695\n",
            "<---------------------------------------------------->\n",
            "epoch: 39.000000\n",
            "epoch train loss = 0.540473, epoch test loss = 0.538013,accuracy_emotion =0.734\n",
            "saving checkpoints/model_39.pth\n",
            "epoch 40, 0/12,train loss is 0.5656680464744568\n",
            "<---------------------------------------------------->\n",
            "epoch: 40.000000\n",
            "epoch train loss = 0.536095, epoch test loss = 0.537654,accuracy_emotion =0.719\n",
            "saving checkpoints/model_40.pth\n",
            "epoch 41, 0/12,train loss is 0.5328671932220459\n",
            "<---------------------------------------------------->\n",
            "epoch: 41.000000\n",
            "epoch train loss = 0.540416, epoch test loss = 0.537453,accuracy_emotion =0.732\n",
            "saving checkpoints/model_41.pth\n",
            "epoch 42, 0/12,train loss is 0.5144175291061401\n",
            "<---------------------------------------------------->\n",
            "epoch: 42.000000\n",
            "epoch train loss = 0.536964, epoch test loss = 0.534866,accuracy_emotion =0.734\n",
            "saving checkpoints/model_42.pth\n",
            "epoch 43, 0/12,train loss is 0.5088144540786743\n",
            "<---------------------------------------------------->\n",
            "epoch: 43.000000\n",
            "epoch train loss = 0.536034, epoch test loss = 0.533998,accuracy_emotion =0.734\n",
            "saving checkpoints/model_43.pth\n",
            "epoch 44, 0/12,train loss is 0.4915618896484375\n",
            "<---------------------------------------------------->\n",
            "epoch: 44.000000\n",
            "epoch train loss = 0.533995, epoch test loss = 0.533075,accuracy_emotion =0.737\n",
            "saving checkpoints/model_44.pth\n",
            "epoch 45, 0/12,train loss is 0.5421696901321411\n",
            "<---------------------------------------------------->\n",
            "epoch: 45.000000\n",
            "epoch train loss = 0.533984, epoch test loss = 0.532084,accuracy_emotion =0.742\n",
            "saving checkpoints/model_45.pth\n",
            "epoch 46, 0/12,train loss is 0.5319759845733643\n",
            "<---------------------------------------------------->\n",
            "epoch: 46.000000\n",
            "epoch train loss = 0.532835, epoch test loss = 0.540279,accuracy_emotion =0.714\n",
            "saving checkpoints/model_46.pth\n",
            "epoch 47, 0/12,train loss is 0.5367538928985596\n",
            "<---------------------------------------------------->\n",
            "epoch: 47.000000\n",
            "epoch train loss = 0.531898, epoch test loss = 0.539286,accuracy_emotion =0.680\n",
            "saving checkpoints/model_47.pth\n",
            "epoch 48, 0/12,train loss is 0.526992678642273\n",
            "<---------------------------------------------------->\n",
            "epoch: 48.000000\n",
            "epoch train loss = 0.530434, epoch test loss = 0.530797,accuracy_emotion =0.740\n",
            "saving checkpoints/model_48.pth\n",
            "epoch 49, 0/12,train loss is 0.5431686639785767\n",
            "<---------------------------------------------------->\n",
            "epoch: 49.000000\n",
            "epoch train loss = 0.530618, epoch test loss = 0.529985,accuracy_emotion =0.747\n",
            "saving checkpoints/model_49.pth\n"
          ]
        }
      ]
    },
    {
      "cell_type": "code",
      "source": [
        "import matplotlib.pyplot as plt\n",
        "\n",
        "# 여러 그래프를 한 화면에 출력\n",
        "fig, axs = plt.subplots(1, 3, figsize=(18, 5))  # 1행 3열로 그래프 배치\n",
        "\n",
        "# 학습 손실 그래프\n",
        "axs[0].plot(all_train_epoch_loss)\n",
        "axs[0].set_title('Train Loss')\n",
        "axs[0].set_xlabel('Epoch')\n",
        "axs[0].set_ylabel('Loss')\n",
        "\n",
        "# 테스트 손실 그래프\n",
        "axs[1].plot(all_test_epoch_loss)\n",
        "axs[1].set_title('Test Loss')\n",
        "axs[1].set_xlabel('Epoch')\n",
        "axs[1].set_ylabel('Loss')\n",
        "\n",
        "# 테스트 정확도 그래프\n",
        "axs[2].plot(all_test_epoch_accuracy_emotion)\n",
        "axs[2].set_title('Test Accuracy Emotion')\n",
        "axs[2].set_xlabel('Epoch')\n",
        "axs[2].set_ylabel('Accuracy')\n",
        "\n",
        "# 그래프 간격 조정\n",
        "plt.tight_layout()\n",
        "\n",
        "# 그래프 출력\n",
        "plt.savefig(save_root + '/training_results.png')  # 하나의 파일로 저장\n",
        "plt.show()  # 화면에 출력\n"
      ],
      "metadata": {
        "id": "VmR9rL78ohzv",
        "colab": {
          "base_uri": "https://localhost:8080/",
          "height": 485
        },
        "outputId": "04ee8918-e076-43af-ea2b-ec8c57f89160"
      },
      "execution_count": 103,
      "outputs": [
        {
          "output_type": "display_data",
          "data": {
            "text/plain": [
              "<Figure size 1800x500 with 3 Axes>"
            ],
            "image/png": "[encoded data removed]"
          },
          "metadata": {}
        }
      ]
    },
    {
      "cell_type": "code",
      "source": [],
      "metadata": {
        "id": "IUmQezN49RAd"
      },
      "execution_count": null,
      "outputs": []
    }
  ]
}